{
 "cells": [
  {
   "cell_type": "markdown",
   "id": "2117c034-1464-41dd-bf37-ebc9f4d87f35",
   "metadata": {},
   "source": [
    "[streamlit app to web deployment steps](https://gilberttanner.com/blog/deploying-your-streamlit-dashboard-with-heroku)"
   ]
  },
  {
   "cell_type": "code",
   "execution_count": null,
   "id": "b2cc27b9-05cf-48c7-8c80-599cb4bf2ecb",
   "metadata": {},
   "outputs": [],
   "source": []
  }
 ],
 "metadata": {
  "kernelspec": {
   "display_name": "Python 3 (ipykernel)",
   "language": "python",
   "name": "python3"
  },
  "language_info": {
   "codemirror_mode": {
    "name": "ipython",
    "version": 3
   },
   "file_extension": ".py",
   "mimetype": "text/x-python",
   "name": "python",
   "nbconvert_exporter": "python",
   "pygments_lexer": "ipython3",
   "version": "3.9.7"
  }
 },
 "nbformat": 4,
 "nbformat_minor": 5
}
