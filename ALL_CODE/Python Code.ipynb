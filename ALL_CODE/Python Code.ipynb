{
 "cells": [
  {
   "cell_type": "code",
   "execution_count": 84,
   "id": "7cecb920-db48-46a3-ac6d-a1dc5c1f418b",
   "metadata": {},
   "outputs": [],
   "source": [
    "import numpy as np \n",
    "import math\n",
    "import pandas as pd \n",
    "import pandas_datareader as pdr \n",
    "import matplotlib.pyplot as plt\n",
    "from sklearn.preprocessing import MinMaxScaler\n",
    "from keras.models import sequential\n",
    "from keras.layers import Dense , LSTM , Dropout\n",
    "from keras.models import Sequential\n",
    "plt.style.use(\"fivethirtyeight\")\n",
    "import datetime"
   ]
  },
  {
   "cell_type": "code",
   "execution_count": 85,
   "id": "c6ad1321-27e2-477c-81b2-f6a3c69dd34e",
   "metadata": {},
   "outputs": [
    {
     "data": {
      "text/html": [
       "<div>\n",
       "<style scoped>\n",
       "    .dataframe tbody tr th:only-of-type {\n",
       "        vertical-align: middle;\n",
       "    }\n",
       "\n",
       "    .dataframe tbody tr th {\n",
       "        vertical-align: top;\n",
       "    }\n",
       "\n",
       "    .dataframe thead th {\n",
       "        text-align: right;\n",
       "    }\n",
       "</style>\n",
       "<table border=\"1\" class=\"dataframe\">\n",
       "  <thead>\n",
       "    <tr style=\"text-align: right;\">\n",
       "      <th></th>\n",
       "      <th>High</th>\n",
       "      <th>Low</th>\n",
       "      <th>Open</th>\n",
       "      <th>Close</th>\n",
       "      <th>Volume</th>\n",
       "      <th>Adj Close</th>\n",
       "    </tr>\n",
       "    <tr>\n",
       "      <th>Date</th>\n",
       "      <th></th>\n",
       "      <th></th>\n",
       "      <th></th>\n",
       "      <th></th>\n",
       "      <th></th>\n",
       "      <th></th>\n",
       "    </tr>\n",
       "  </thead>\n",
       "  <tbody>\n",
       "    <tr>\n",
       "      <th>2000-01-03</th>\n",
       "      <td>17.000000</td>\n",
       "      <td>16.600000</td>\n",
       "      <td>16.600000</td>\n",
       "      <td>17.000000</td>\n",
       "      <td>332590.0</td>\n",
       "      <td>14.458515</td>\n",
       "    </tr>\n",
       "    <tr>\n",
       "      <th>2000-01-04</th>\n",
       "      <td>18.344999</td>\n",
       "      <td>17.100000</td>\n",
       "      <td>18.200001</td>\n",
       "      <td>17.379999</td>\n",
       "      <td>1687100.0</td>\n",
       "      <td>14.781702</td>\n",
       "    </tr>\n",
       "    <tr>\n",
       "      <th>2000-01-05</th>\n",
       "      <td>17.389999</td>\n",
       "      <td>16.500000</td>\n",
       "      <td>17.000000</td>\n",
       "      <td>16.695000</td>\n",
       "      <td>1598200.0</td>\n",
       "      <td>14.199109</td>\n",
       "    </tr>\n",
       "    <tr>\n",
       "      <th>2000-01-06</th>\n",
       "      <td>17.000000</td>\n",
       "      <td>16.530001</td>\n",
       "      <td>16.799999</td>\n",
       "      <td>16.830000</td>\n",
       "      <td>850260.0</td>\n",
       "      <td>14.313928</td>\n",
       "    </tr>\n",
       "    <tr>\n",
       "      <th>2000-01-07</th>\n",
       "      <td>17.100000</td>\n",
       "      <td>16.215000</td>\n",
       "      <td>16.215000</td>\n",
       "      <td>16.834999</td>\n",
       "      <td>851440.0</td>\n",
       "      <td>14.318180</td>\n",
       "    </tr>\n",
       "    <tr>\n",
       "      <th>...</th>\n",
       "      <td>...</td>\n",
       "      <td>...</td>\n",
       "      <td>...</td>\n",
       "      <td>...</td>\n",
       "      <td>...</td>\n",
       "      <td>...</td>\n",
       "    </tr>\n",
       "    <tr>\n",
       "      <th>2022-04-06</th>\n",
       "      <td>1589.800049</td>\n",
       "      <td>1547.349976</td>\n",
       "      <td>1587.699951</td>\n",
       "      <td>1550.849976</td>\n",
       "      <td>13513930.0</td>\n",
       "      <td>1550.849976</td>\n",
       "    </tr>\n",
       "    <tr>\n",
       "      <th>2022-04-07</th>\n",
       "      <td>1541.349976</td>\n",
       "      <td>1513.699951</td>\n",
       "      <td>1541.300049</td>\n",
       "      <td>1516.750000</td>\n",
       "      <td>20390866.0</td>\n",
       "      <td>1516.750000</td>\n",
       "    </tr>\n",
       "    <tr>\n",
       "      <th>2022-04-08</th>\n",
       "      <td>1525.750000</td>\n",
       "      <td>1497.300049</td>\n",
       "      <td>1512.099976</td>\n",
       "      <td>1514.650024</td>\n",
       "      <td>20628161.0</td>\n",
       "      <td>1514.650024</td>\n",
       "    </tr>\n",
       "    <tr>\n",
       "      <th>2022-04-11</th>\n",
       "      <td>1510.000000</td>\n",
       "      <td>1493.250000</td>\n",
       "      <td>1506.000000</td>\n",
       "      <td>1496.150024</td>\n",
       "      <td>10399533.0</td>\n",
       "      <td>1496.150024</td>\n",
       "    </tr>\n",
       "    <tr>\n",
       "      <th>2022-04-12</th>\n",
       "      <td>1506.849976</td>\n",
       "      <td>1480.150024</td>\n",
       "      <td>1484.000000</td>\n",
       "      <td>1493.500000</td>\n",
       "      <td>13716454.0</td>\n",
       "      <td>1493.500000</td>\n",
       "    </tr>\n",
       "  </tbody>\n",
       "</table>\n",
       "<p>5569 rows × 6 columns</p>\n",
       "</div>"
      ],
      "text/plain": [
       "                   High          Low         Open        Close      Volume  \\\n",
       "Date                                                                         \n",
       "2000-01-03    17.000000    16.600000    16.600000    17.000000    332590.0   \n",
       "2000-01-04    18.344999    17.100000    18.200001    17.379999   1687100.0   \n",
       "2000-01-05    17.389999    16.500000    17.000000    16.695000   1598200.0   \n",
       "2000-01-06    17.000000    16.530001    16.799999    16.830000    850260.0   \n",
       "2000-01-07    17.100000    16.215000    16.215000    16.834999    851440.0   \n",
       "...                 ...          ...          ...          ...         ...   \n",
       "2022-04-06  1589.800049  1547.349976  1587.699951  1550.849976  13513930.0   \n",
       "2022-04-07  1541.349976  1513.699951  1541.300049  1516.750000  20390866.0   \n",
       "2022-04-08  1525.750000  1497.300049  1512.099976  1514.650024  20628161.0   \n",
       "2022-04-11  1510.000000  1493.250000  1506.000000  1496.150024  10399533.0   \n",
       "2022-04-12  1506.849976  1480.150024  1484.000000  1493.500000  13716454.0   \n",
       "\n",
       "              Adj Close  \n",
       "Date                     \n",
       "2000-01-03    14.458515  \n",
       "2000-01-04    14.781702  \n",
       "2000-01-05    14.199109  \n",
       "2000-01-06    14.313928  \n",
       "2000-01-07    14.318180  \n",
       "...                 ...  \n",
       "2022-04-06  1550.849976  \n",
       "2022-04-07  1516.750000  \n",
       "2022-04-08  1514.650024  \n",
       "2022-04-11  1496.150024  \n",
       "2022-04-12  1493.500000  \n",
       "\n",
       "[5569 rows x 6 columns]"
      ]
     },
     "execution_count": 85,
     "metadata": {},
     "output_type": "execute_result"
    }
   ],
   "source": [
    "# Get the stock quote\n",
    "# name should be exact from yahoo finance site\n",
    "\n",
    "df = pdr.DataReader('HDFCBANK.NS',data_source='yahoo',start='2000-01-01',end=datetime.datetime.now())\n",
    "\n",
    "# show the data \n",
    "df"
   ]
  },
  {
   "cell_type": "code",
   "execution_count": 86,
   "id": "401d947f-8bb3-4c95-9914-eee306ac29d5",
   "metadata": {},
   "outputs": [
    {
     "data": {
      "text/plain": [
       "(5569, 6)"
      ]
     },
     "execution_count": 86,
     "metadata": {},
     "output_type": "execute_result"
    }
   ],
   "source": [
    "df.shape"
   ]
  },
  {
   "cell_type": "code",
   "execution_count": 87,
   "id": "7fb18a6a-e6b7-463b-bf50-7e3883186977",
   "metadata": {},
   "outputs": [
    {
     "ename": "NameError",
     "evalue": "name 'Date' is not defined",
     "output_type": "error",
     "traceback": [
      "\u001b[1;31m---------------------------------------------------------------------------\u001b[0m",
      "\u001b[1;31mNameError\u001b[0m                                 Traceback (most recent call last)",
      "\u001b[1;32m~\\AppData\\Local\\Temp/ipykernel_720/1079279536.py\u001b[0m in \u001b[0;36m<module>\u001b[1;34m\u001b[0m\n\u001b[0;32m      3\u001b[0m \u001b[0mplt\u001b[0m\u001b[1;33m.\u001b[0m\u001b[0mtitle\u001b[0m\u001b[1;33m(\u001b[0m\u001b[1;34m'Close Price'\u001b[0m\u001b[1;33m)\u001b[0m\u001b[1;33m\u001b[0m\u001b[1;33m\u001b[0m\u001b[0m\n\u001b[0;32m      4\u001b[0m \u001b[0mplt\u001b[0m\u001b[1;33m.\u001b[0m\u001b[0mplot\u001b[0m\u001b[1;33m(\u001b[0m\u001b[0mdf\u001b[0m\u001b[1;33m[\u001b[0m\u001b[1;34m'Close'\u001b[0m\u001b[1;33m]\u001b[0m\u001b[1;33m)\u001b[0m\u001b[1;33m\u001b[0m\u001b[1;33m\u001b[0m\u001b[0m\n\u001b[1;32m----> 5\u001b[1;33m \u001b[0mplt\u001b[0m\u001b[1;33m.\u001b[0m\u001b[0mxlabel\u001b[0m\u001b[1;33m(\u001b[0m\u001b[0mxlabel\u001b[0m \u001b[1;33m=\u001b[0m \u001b[1;33m[\u001b[0m\u001b[0mDate\u001b[0m\u001b[1;33m]\u001b[0m\u001b[1;33m,\u001b[0m \u001b[0mfontdict\u001b[0m\u001b[1;33m=\u001b[0m\u001b[1;36m8\u001b[0m\u001b[1;33m)\u001b[0m\u001b[1;33m\u001b[0m\u001b[1;33m\u001b[0m\u001b[0m\n\u001b[0m\u001b[0;32m      6\u001b[0m \u001b[0mplt\u001b[0m\u001b[1;33m.\u001b[0m\u001b[0mxlabel\u001b[0m\u001b[1;33m(\u001b[0m\u001b[0mylabel\u001b[0m \u001b[1;33m=\u001b[0m \u001b[1;34m'Price (INR)'\u001b[0m\u001b[1;33m,\u001b[0m \u001b[0mfontdict\u001b[0m\u001b[1;33m=\u001b[0m\u001b[1;36m8\u001b[0m\u001b[1;33m)\u001b[0m\u001b[1;33m\u001b[0m\u001b[1;33m\u001b[0m\u001b[0m\n\u001b[0;32m      7\u001b[0m \u001b[0mplt\u001b[0m\u001b[1;33m.\u001b[0m\u001b[0mshow\u001b[0m\u001b[1;33m(\u001b[0m\u001b[1;33m)\u001b[0m\u001b[1;33m\u001b[0m\u001b[1;33m\u001b[0m\u001b[0m\n",
      "\u001b[1;31mNameError\u001b[0m: name 'Date' is not defined"
     ]
    },
    {
     "data": {
      "image/png": "[encoded data removed]",
      "text/plain": [
       "<Figure size 1152x576 with 1 Axes>"
      ]
     },
     "metadata": {},
     "output_type": "display_data"
    }
   ],
   "source": [
    "# visualize the closing price \n",
    "plt.figure(figsize=(16,8))\n",
    "plt.title('Close Price')\n",
    "plt.plot(df['Close'])\n",
    "plt.xlabel(xlabel = [Date], fontdict=8)\n",
    "plt.xlabel(ylabel = 'Price (INR)', fontdict=8)\n",
    "plt.show()"
   ]
  },
  {
   "cell_type": "code",
   "execution_count": 88,
   "id": "eb02c4b3-577c-4f49-a11c-5924bfbffa01",
   "metadata": {},
   "outputs": [
    {
     "data": {
      "text/plain": [
       "Date\n",
       "2000-01-03            NaN\n",
       "2000-01-04            NaN\n",
       "2000-01-05            NaN\n",
       "2000-01-06            NaN\n",
       "2000-01-07            NaN\n",
       "                 ...     \n",
       "2022-04-06    1490.177007\n",
       "2022-04-07    1489.814507\n",
       "2022-04-08    1489.388507\n",
       "2022-04-11    1488.870007\n",
       "2022-04-12    1488.497007\n",
       "Name: Close, Length: 5569, dtype: float64"
      ]
     },
     "execution_count": 88,
     "metadata": {},
     "output_type": "execute_result"
    }
   ],
   "source": [
    "# defining 100day moving average\n",
    "# thus it shows values from 101th index \n",
    "ma100 = df.Close.rolling(100).mean()\n",
    "ma100"
   ]
  },
  {
   "cell_type": "code",
   "execution_count": 89,
   "id": "e0f847e3-f6f7-4ef4-914d-f5aacbfc3ca0",
   "metadata": {},
   "outputs": [],
   "source": [
    "ma200 = df.Close.rolling(200).mean()\n",
    "#ma200"
   ]
  },
  {
   "cell_type": "code",
   "execution_count": 90,
   "id": "2f5675e4-3466-4d54-a1ea-155cd80868fe",
   "metadata": {},
   "outputs": [
    {
     "data": {
      "text/plain": [
       "[<matplotlib.lines.Line2D at 0x2443a81ffd0>]"
      ]
     },
     "execution_count": 90,
     "metadata": {},
     "output_type": "execute_result"
    },
    {
     "data": {
      "image/png": "[encoded data removed]",
      "text/plain": [
       "<Figure size 1440x576 with 1 Axes>"
      ]
     },
     "metadata": {},
     "output_type": "display_data"
    }
   ],
   "source": [
    "plt.figure(figsize=(20,8))\n",
    "plt.plot(df.Close)\n",
    "plt.plot(ma100,'g')\n",
    "plt.plot(ma200,'r')"
   ]
  },
  {
   "cell_type": "code",
   "execution_count": 1,
   "id": "65d1427a-1e59-478c-8644-d938e0a00903",
   "metadata": {},
   "outputs": [
    {
     "ename": "NameError",
     "evalue": "name 'df' is not defined",
     "output_type": "error",
     "traceback": [
      "\u001b[1;31m---------------------------------------------------------------------------\u001b[0m",
      "\u001b[1;31mNameError\u001b[0m                                 Traceback (most recent call last)",
      "\u001b[1;32m~\\AppData\\Local\\Temp/ipykernel_13980/2838542219.py\u001b[0m in \u001b[0;36m<module>\u001b[1;34m\u001b[0m\n\u001b[0;32m      1\u001b[0m \u001b[1;31m# Creating a new df for only close price\u001b[0m\u001b[1;33m\u001b[0m\u001b[1;33m\u001b[0m\u001b[0m\n\u001b[0;32m      2\u001b[0m \u001b[1;31m#data = df.filter(['Close','High'])           # gives 2 column\u001b[0m\u001b[1;33m\u001b[0m\u001b[1;33m\u001b[0m\u001b[0m\n\u001b[1;32m----> 3\u001b[1;33m \u001b[0mdata\u001b[0m \u001b[1;33m=\u001b[0m \u001b[0mdf\u001b[0m\u001b[1;33m.\u001b[0m\u001b[0mfilter\u001b[0m\u001b[1;33m(\u001b[0m\u001b[1;33m[\u001b[0m\u001b[1;34m'Close'\u001b[0m\u001b[1;33m]\u001b[0m\u001b[1;33m,\u001b[0m\u001b[1;33m[\u001b[0m\u001b[1;34m'High'\u001b[0m\u001b[1;33m]\u001b[0m\u001b[1;33m)\u001b[0m                   \u001b[1;31m# gives 1 column\u001b[0m\u001b[1;33m\u001b[0m\u001b[1;33m\u001b[0m\u001b[0m\n\u001b[0m\u001b[0;32m      4\u001b[0m \u001b[0mdata\u001b[0m\u001b[1;33m\u001b[0m\u001b[1;33m\u001b[0m\u001b[0m\n",
      "\u001b[1;31mNameError\u001b[0m: name 'df' is not defined"
     ]
    }
   ],
   "source": [
    "# Creating a new df for only close price \n",
    "#data = df.filter(['Close','High'])           # gives 2 column \n",
    "data = df.filter(['Close'])                   # gives 1 column\n",
    "data\n"
   ]
  },
  {
   "cell_type": "code",
   "execution_count": 92,
   "id": "665e4eaf-c7f2-4f27-bc41-8057d083a103",
   "metadata": {},
   "outputs": [
    {
     "data": {
      "text/plain": [
       "array([[  17.        ],\n",
       "       [  17.37999916],\n",
       "       [  16.69499969],\n",
       "       ...,\n",
       "       [1514.65002441],\n",
       "       [1496.15002441],\n",
       "       [1493.5       ]])"
      ]
     },
     "execution_count": 92,
     "metadata": {},
     "output_type": "execute_result"
    }
   ],
   "source": [
    "# create df to a  num py array         df.values : Only the values in the DataFrame will be returned, the axes labels will be removed.\n",
    "\n",
    "dataset = data.values\n",
    "dataset\n"
   ]
  },
  {
   "cell_type": "code",
   "execution_count": 93,
   "id": "36c3f642-9963-4b83-b759-21da065fe8c4",
   "metadata": {},
   "outputs": [
    {
     "data": {
      "text/plain": [
       "3620"
      ]
     },
     "execution_count": 93,
     "metadata": {},
     "output_type": "execute_result"
    }
   ],
   "source": [
    "\n",
    "# Get the no of adta to train the model on say 65%\n",
    "training_data_len = math.ceil(len(dataset)*0.65)                    #Return the ceiling of x as an Integral.\n",
    "training_data_len"
   ]
  },
  {
   "cell_type": "code",
   "execution_count": 94,
   "id": "ea597c1f-9b7f-47c2-a855-a83a15781643",
   "metadata": {},
   "outputs": [
    {
     "data": {
      "text/plain": [
       "array([[3.94651790e-04],\n",
       "       [6.21875098e-04],\n",
       "       [2.12274602e-04],\n",
       "       ...,\n",
       "       [8.95925559e-01],\n",
       "       [8.84863347e-01],\n",
       "       [8.83278746e-01]])"
      ]
     },
     "execution_count": 94,
     "metadata": {},
     "output_type": "execute_result"
    }
   ],
   "source": [
    "# scale the data \n",
    "scaler = MinMaxScaler(feature_range=(0, 1))\n",
    "scaled_data = scaler.fit_transform(dataset)                        # range [0-1] on numpy array of dataset\n",
    "scaled_data"
   ]
  },
  {
   "cell_type": "code",
   "execution_count": 95,
   "id": "28a319c8-a608-4ef2-9146-9b9bffbb0462",
   "metadata": {},
   "outputs": [
    {
     "name": "stdout",
     "output_type": "stream",
     "text": [
      "[array([0.00039465, 0.00062188, 0.00021227, 0.000293  , 0.00029599,\n",
      "       0.00014949, 0.        , 0.00012258, 0.00010165, 0.00012258,\n",
      "       0.00091488, 0.00013753, 0.00093281, 0.0009089 , 0.00147994,\n",
      "       0.00222141, 0.00318113, 0.00318113, 0.00396446, 0.00385683,\n",
      "       0.00444581, 0.00463716, 0.00481954, 0.00374022, 0.00391961,\n",
      "       0.00498099, 0.00522316, 0.0053278 , 0.00528295, 0.00410797,\n",
      "       0.00418869, 0.00383889, 0.00493016, 0.00520223, 0.00473582,\n",
      "       0.00435014, 0.00323794, 0.00335155, 0.00380301, 0.00380301,\n",
      "       0.0038359 , 0.00319309, 0.00423055, 0.00535172, 0.00656258,\n",
      "       0.00613803, 0.00566864, 0.00649681, 0.00635031, 0.00542646,\n",
      "       0.00637124, 0.00609917, 0.0057673 , 0.00559389, 0.00559389,\n",
      "       0.00559389, 0.00552513, 0.00584503, 0.0069961 , 0.00657753,\n",
      "       0.00647588, 0.00667918, 0.00609917, 0.00592875, 0.00560884,\n",
      "       0.00500789, 0.00382693, 0.00274163, 0.00174305, 0.0026639 ,\n",
      "       0.0036595 , 0.00375517, 0.00416178, 0.0040691 , 0.0040691 ,\n",
      "       0.00296288, 0.00351001, 0.00377012, 0.00372527, 0.00372527,\n",
      "       0.00410797, 0.0040392 , 0.00513346, 0.00490923, 0.0048883 ,\n",
      "       0.0048883 , 0.00525007, 0.00495109, 0.00522615, 0.0057673 ])]\n",
      "\n",
      "[0.005803176473934904]\n",
      "[array([0.00039465, 0.00062188, 0.00021227, 0.000293  , 0.00029599,\n",
      "       0.00014949, 0.        , 0.00012258, 0.00010165, 0.00012258,\n",
      "       0.00091488, 0.00013753, 0.00093281, 0.0009089 , 0.00147994,\n",
      "       0.00222141, 0.00318113, 0.00318113, 0.00396446, 0.00385683,\n",
      "       0.00444581, 0.00463716, 0.00481954, 0.00374022, 0.00391961,\n",
      "       0.00498099, 0.00522316, 0.0053278 , 0.00528295, 0.00410797,\n",
      "       0.00418869, 0.00383889, 0.00493016, 0.00520223, 0.00473582,\n",
      "       0.00435014, 0.00323794, 0.00335155, 0.00380301, 0.00380301,\n",
      "       0.0038359 , 0.00319309, 0.00423055, 0.00535172, 0.00656258,\n",
      "       0.00613803, 0.00566864, 0.00649681, 0.00635031, 0.00542646,\n",
      "       0.00637124, 0.00609917, 0.0057673 , 0.00559389, 0.00559389,\n",
      "       0.00559389, 0.00552513, 0.00584503, 0.0069961 , 0.00657753,\n",
      "       0.00647588, 0.00667918, 0.00609917, 0.00592875, 0.00560884,\n",
      "       0.00500789, 0.00382693, 0.00274163, 0.00174305, 0.0026639 ,\n",
      "       0.0036595 , 0.00375517, 0.00416178, 0.0040691 , 0.0040691 ,\n",
      "       0.00296288, 0.00351001, 0.00377012, 0.00372527, 0.00372527,\n",
      "       0.00410797, 0.0040392 , 0.00513346, 0.00490923, 0.0048883 ,\n",
      "       0.0048883 , 0.00525007, 0.00495109, 0.00522615, 0.0057673 ]), array([0.00062188, 0.00021227, 0.000293  , 0.00029599, 0.00014949,\n",
      "       0.        , 0.00012258, 0.00010165, 0.00012258, 0.00091488,\n",
      "       0.00013753, 0.00093281, 0.0009089 , 0.00147994, 0.00222141,\n",
      "       0.00318113, 0.00318113, 0.00396446, 0.00385683, 0.00444581,\n",
      "       0.00463716, 0.00481954, 0.00374022, 0.00391961, 0.00498099,\n",
      "       0.00522316, 0.0053278 , 0.00528295, 0.00410797, 0.00418869,\n",
      "       0.00383889, 0.00493016, 0.00520223, 0.00473582, 0.00435014,\n",
      "       0.00323794, 0.00335155, 0.00380301, 0.00380301, 0.0038359 ,\n",
      "       0.00319309, 0.00423055, 0.00535172, 0.00656258, 0.00613803,\n",
      "       0.00566864, 0.00649681, 0.00635031, 0.00542646, 0.00637124,\n",
      "       0.00609917, 0.0057673 , 0.00559389, 0.00559389, 0.00559389,\n",
      "       0.00552513, 0.00584503, 0.0069961 , 0.00657753, 0.00647588,\n",
      "       0.00667918, 0.00609917, 0.00592875, 0.00560884, 0.00500789,\n",
      "       0.00382693, 0.00274163, 0.00174305, 0.0026639 , 0.0036595 ,\n",
      "       0.00375517, 0.00416178, 0.0040691 , 0.0040691 , 0.00296288,\n",
      "       0.00351001, 0.00377012, 0.00372527, 0.00372527, 0.00410797,\n",
      "       0.0040392 , 0.00513346, 0.00490923, 0.0048883 , 0.0048883 ,\n",
      "       0.00525007, 0.00495109, 0.00522615, 0.0057673 , 0.00580318])]\n",
      "\n",
      "[0.005803176473934904, 0.005859982015885721]\n",
      "[array([0.00039465, 0.00062188, 0.00021227, 0.000293  , 0.00029599,\n",
      "       0.00014949, 0.        , 0.00012258, 0.00010165, 0.00012258,\n",
      "       0.00091488, 0.00013753, 0.00093281, 0.0009089 , 0.00147994,\n",
      "       0.00222141, 0.00318113, 0.00318113, 0.00396446, 0.00385683,\n",
      "       0.00444581, 0.00463716, 0.00481954, 0.00374022, 0.00391961,\n",
      "       0.00498099, 0.00522316, 0.0053278 , 0.00528295, 0.00410797,\n",
      "       0.00418869, 0.00383889, 0.00493016, 0.00520223, 0.00473582,\n",
      "       0.00435014, 0.00323794, 0.00335155, 0.00380301, 0.00380301,\n",
      "       0.0038359 , 0.00319309, 0.00423055, 0.00535172, 0.00656258,\n",
      "       0.00613803, 0.00566864, 0.00649681, 0.00635031, 0.00542646,\n",
      "       0.00637124, 0.00609917, 0.0057673 , 0.00559389, 0.00559389,\n",
      "       0.00559389, 0.00552513, 0.00584503, 0.0069961 , 0.00657753,\n",
      "       0.00647588, 0.00667918, 0.00609917, 0.00592875, 0.00560884,\n",
      "       0.00500789, 0.00382693, 0.00274163, 0.00174305, 0.0026639 ,\n",
      "       0.0036595 , 0.00375517, 0.00416178, 0.0040691 , 0.0040691 ,\n",
      "       0.00296288, 0.00351001, 0.00377012, 0.00372527, 0.00372527,\n",
      "       0.00410797, 0.0040392 , 0.00513346, 0.00490923, 0.0048883 ,\n",
      "       0.0048883 , 0.00525007, 0.00495109, 0.00522615, 0.0057673 ]), array([0.00062188, 0.00021227, 0.000293  , 0.00029599, 0.00014949,\n",
      "       0.        , 0.00012258, 0.00010165, 0.00012258, 0.00091488,\n",
      "       0.00013753, 0.00093281, 0.0009089 , 0.00147994, 0.00222141,\n",
      "       0.00318113, 0.00318113, 0.00396446, 0.00385683, 0.00444581,\n",
      "       0.00463716, 0.00481954, 0.00374022, 0.00391961, 0.00498099,\n",
      "       0.00522316, 0.0053278 , 0.00528295, 0.00410797, 0.00418869,\n",
      "       0.00383889, 0.00493016, 0.00520223, 0.00473582, 0.00435014,\n",
      "       0.00323794, 0.00335155, 0.00380301, 0.00380301, 0.0038359 ,\n",
      "       0.00319309, 0.00423055, 0.00535172, 0.00656258, 0.00613803,\n",
      "       0.00566864, 0.00649681, 0.00635031, 0.00542646, 0.00637124,\n",
      "       0.00609917, 0.0057673 , 0.00559389, 0.00559389, 0.00559389,\n",
      "       0.00552513, 0.00584503, 0.0069961 , 0.00657753, 0.00647588,\n",
      "       0.00667918, 0.00609917, 0.00592875, 0.00560884, 0.00500789,\n",
      "       0.00382693, 0.00274163, 0.00174305, 0.0026639 , 0.0036595 ,\n",
      "       0.00375517, 0.00416178, 0.0040691 , 0.0040691 , 0.00296288,\n",
      "       0.00351001, 0.00377012, 0.00372527, 0.00372527, 0.00410797,\n",
      "       0.0040392 , 0.00513346, 0.00490923, 0.0048883 , 0.0048883 ,\n",
      "       0.00525007, 0.00495109, 0.00522615, 0.0057673 , 0.00580318]), array([0.00021227, 0.000293  , 0.00029599, 0.00014949, 0.        ,\n",
      "       0.00012258, 0.00010165, 0.00012258, 0.00091488, 0.00013753,\n",
      "       0.00093281, 0.0009089 , 0.00147994, 0.00222141, 0.00318113,\n",
      "       0.00318113, 0.00396446, 0.00385683, 0.00444581, 0.00463716,\n",
      "       0.00481954, 0.00374022, 0.00391961, 0.00498099, 0.00522316,\n",
      "       0.0053278 , 0.00528295, 0.00410797, 0.00418869, 0.00383889,\n",
      "       0.00493016, 0.00520223, 0.00473582, 0.00435014, 0.00323794,\n",
      "       0.00335155, 0.00380301, 0.00380301, 0.0038359 , 0.00319309,\n",
      "       0.00423055, 0.00535172, 0.00656258, 0.00613803, 0.00566864,\n",
      "       0.00649681, 0.00635031, 0.00542646, 0.00637124, 0.00609917,\n",
      "       0.0057673 , 0.00559389, 0.00559389, 0.00559389, 0.00552513,\n",
      "       0.00584503, 0.0069961 , 0.00657753, 0.00647588, 0.00667918,\n",
      "       0.00609917, 0.00592875, 0.00560884, 0.00500789, 0.00382693,\n",
      "       0.00274163, 0.00174305, 0.0026639 , 0.0036595 , 0.00375517,\n",
      "       0.00416178, 0.0040691 , 0.0040691 , 0.00296288, 0.00351001,\n",
      "       0.00377012, 0.00372527, 0.00372527, 0.00410797, 0.0040392 ,\n",
      "       0.00513346, 0.00490923, 0.0048883 , 0.0048883 , 0.00525007,\n",
      "       0.00495109, 0.00522615, 0.0057673 , 0.00580318, 0.00585998])]\n",
      "\n",
      "[0.005803176473934904, 0.005859982015885721, 0.005934726690274636]\n"
     ]
    }
   ],
   "source": [
    "# create a scaled training data set \n",
    "train_data = scaled_data[0:training_data_len , : ]                # till row = training data len all column points\n",
    "\n",
    "# split the data into x_train  , and y_train data sets\n",
    "x_train = []                                                      # features = independent variables \n",
    "y_train = []                                                      # lables = output = dependent variables \n",
    "\n",
    "for i in range(90 , len(train_data)): \n",
    "    x_train.append(train_data[i-90:i , 0])                        # we are going to append 0 to 89th  values of train_data in 0th column\n",
    "    y_train.append(train_data[i , 0])                             # lable/ prediction is 90th data point of 0th column from train_data to y_train\n",
    "    \n",
    "    if i <= 92:\n",
    "        print(x_train)\n",
    "        print()\n",
    "        print(y_train)\n",
    "       "
   ]
  },
  {
   "cell_type": "code",
   "execution_count": 96,
   "id": "2bef2f28-4e5f-489c-95b9-129c4f93db05",
   "metadata": {},
   "outputs": [
    {
     "data": {
      "text/plain": [
       "(3530, 90, 1)"
      ]
     },
     "execution_count": 96,
     "metadata": {},
     "output_type": "execute_result"
    }
   ],
   "source": [
    "# convert x_train and y_train to numpy arrays so that array data can be provided to LSTM model\n",
    "x_train , y_train = np.array(x_train) , np.array(y_train)\n",
    "\n",
    "# x_train.shape               (2363, 90)   # after appending in every row tere are 90 columns of data \n",
    "\n",
    "# x_train                                  # is 2d type row  and column data\n",
    "\n",
    "# reshaping the x_train data set as a LSTM model expects the input to be a three dimentionals array \n",
    "x_train = np.reshape(x_train ,newshape= (x_train.shape[0] , x_train.shape[1] , 1))\n",
    "x_train.shape\n"
   ]
  },
  {
   "cell_type": "code",
   "execution_count": 97,
   "id": "19dd15a9-4bf5-41f1-ba5a-428fe7e577ee",
   "metadata": {},
   "outputs": [],
   "source": [
    "# Build the LSTM model \n",
    "model = Sequential()\n",
    "\n",
    "# add a layer of 50 neuron , there output to be used in next layer thus return seq = true , since first layer thus shape of input neuron   , \n",
    "# input shape = (time step , features ) = (90 days , 1 ) = (90 , close price)\n",
    "model.add(LSTM(50, activation ='relu', return_sequences=True, input_shape = (x_train.shape[1],1)))\n",
    "model.add(Dropout(0.2))\n",
    " \n",
    "model.add(LSTM(60, activation ='relu', return_sequences=True))\n",
    "model.add(Dropout(0.3))\n",
    " \n",
    "model.add(LSTM(80, activation ='relu', return_sequences=True))\n",
    "model.add(Dropout(0.4)) \n",
    "\n",
    "model.add(LSTM(120, activation ='relu'))\n",
    "model.add(Dropout(0.5))           \n",
    "          \n",
    "# adding last dense layer          \n",
    "model.add(Dense(1))"
   ]
  },
  {
   "cell_type": "code",
   "execution_count": 98,
   "id": "507bee7f-2183-4d08-94db-a521c742b327",
   "metadata": {},
   "outputs": [
    {
     "name": "stdout",
     "output_type": "stream",
     "text": [
      "Model: \"sequential_4\"\n",
      "_________________________________________________________________\n",
      " Layer (type)                Output Shape              Param #   \n",
      "=================================================================\n",
      " lstm_10 (LSTM)              (None, 90, 50)            10400     \n",
      "                                                                 \n",
      " dropout_8 (Dropout)         (None, 90, 50)            0         \n",
      "                                                                 \n",
      " lstm_11 (LSTM)              (None, 90, 60)            26640     \n",
      "                                                                 \n",
      " dropout_9 (Dropout)         (None, 90, 60)            0         \n",
      "                                                                 \n",
      " lstm_12 (LSTM)              (None, 90, 80)            45120     \n",
      "                                                                 \n",
      " dropout_10 (Dropout)        (None, 90, 80)            0         \n",
      "                                                                 \n",
      " lstm_13 (LSTM)              (None, 120)               96480     \n",
      "                                                                 \n",
      " dropout_11 (Dropout)        (None, 120)               0         \n",
      "                                                                 \n",
      " dense_2 (Dense)             (None, 1)                 121       \n",
      "                                                                 \n",
      "=================================================================\n",
      "Total params: 178,761\n",
      "Trainable params: 178,761\n",
      "Non-trainable params: 0\n",
      "_________________________________________________________________\n"
     ]
    }
   ],
   "source": [
    "model.summary()"
   ]
  },
  {
   "cell_type": "code",
   "execution_count": 100,
   "id": "cb0fd14a-dbcd-4ae8-aca3-b5f3689b4f92",
   "metadata": {},
   "outputs": [
    {
     "name": "stdout",
     "output_type": "stream",
     "text": [
      "Epoch 1/10\n",
      "3530/3530 [==============================] - 195s 55ms/step - loss: 5.3312e-04\n",
      "Epoch 2/10\n",
      "3530/3530 [==============================] - 192s 54ms/step - loss: 3.9899e-04\n",
      "Epoch 3/10\n",
      "3530/3530 [==============================] - 218s 62ms/step - loss: 3.7260e-04\n",
      "Epoch 4/10\n",
      "3530/3530 [==============================] - 237s 67ms/step - loss: 3.5428e-04\n",
      "Epoch 5/10\n",
      "3530/3530 [==============================] - 223s 63ms/step - loss: 2.9067e-04\n",
      "Epoch 6/10\n",
      "3530/3530 [==============================] - 227s 64ms/step - loss: 2.8514e-04\n",
      "Epoch 7/10\n",
      "3530/3530 [==============================] - 212s 60ms/step - loss: 2.7049e-04\n",
      "Epoch 8/10\n",
      "3530/3530 [==============================] - 197s 56ms/step - loss: 2.6718e-04\n",
      "Epoch 9/10\n",
      "3530/3530 [==============================] - 196s 56ms/step - loss: 2.7001e-04\n",
      "Epoch 10/10\n",
      "3530/3530 [==============================] - 196s 56ms/step - loss: 2.6952e-04\n"
     ]
    },
    {
     "data": {
      "text/plain": [
       "<keras.callbacks.History at 0x24442d9ee20>"
      ]
     },
     "execution_count": 100,
     "metadata": {},
     "output_type": "execute_result"
    }
   ],
   "source": [
    "# compile the model \n",
    "# optimizer is used to minimise the loss fx \n",
    "# loss fx is used to calculate what was the loss to see how well the model did on traiing \n",
    "\n",
    "model.compile(optimizer='adam' , loss=\"mean_squared_error\")\n",
    "\n",
    "# train the model\n",
    "model.fit(x=x_train,y=y_train,batch_size=1,epochs=10)"
   ]
  },
  {
   "cell_type": "code",
   "execution_count": 105,
   "id": "57b3b63d-0b0d-4762-8b3e-3c3e1660789d",
   "metadata": {},
   "outputs": [],
   "source": [
    "model.save('HDFCBANK.NS_keras_model.h5')"
   ]
  },
  {
   "cell_type": "code",
   "execution_count": 106,
   "id": "c6a1dbf3-928e-495f-8fef-f24d40ff17fc",
   "metadata": {},
   "outputs": [],
   "source": [
    "# creating the testing data set\n",
    "# create a new array containing scaled values from index  end of len(train_data) till end of the total data\n",
    "\n",
    "test_data = scaled_data[training_data_len-90 : , : ]         # all data from 60th to end of data with all column\n",
    "\n",
    "# creating a dataset x_test and y_test\n",
    "x_test = []\n",
    "y_test = dataset[training_data_len : , : ]                          # actual prediction values\n",
    "                                                                    # dataset values are original closing prce and not scaled\n",
    "\n",
    "for i in range(90 , len(test_data)):\n",
    "    x_test.append(test_data[i-90 : i, 0 ])\n",
    "    "
   ]
  },
  {
   "cell_type": "code",
   "execution_count": 107,
   "id": "a5bbad30-5210-4c72-b40b-0feb6e6b65a3",
   "metadata": {},
   "outputs": [
    {
     "data": {
      "text/plain": [
       "1949"
      ]
     },
     "execution_count": 107,
     "metadata": {},
     "output_type": "execute_result"
    }
   ],
   "source": [
    "len(y_test)"
   ]
  },
  {
   "cell_type": "code",
   "execution_count": 108,
   "id": "1b57ce9f-a99e-47bd-a2b9-676bbd27624c",
   "metadata": {},
   "outputs": [],
   "source": [
    "# create the data to a numpy array as model need 3d array\n",
    "x_test = np.array(x_test)\n",
    "\n",
    "# reshape the data for the model      (newshape =no of rows = x_test.shape[0], timesteps = 60 days = x_test.shape[1] , and 1 )\n",
    "x_test = np.reshape(x_test , newshape= (x_test.shape[0] , x_test.shape[1] , 1 ))"
   ]
  },
  {
   "cell_type": "code",
   "execution_count": 109,
   "id": "d88550c8-6d10-40a8-9133-891d61b38833",
   "metadata": {},
   "outputs": [
    {
     "data": {
      "text/plain": [
       "(1949, 1)"
      ]
     },
     "execution_count": 109,
     "metadata": {},
     "output_type": "execute_result"
    }
   ],
   "source": [
    "                                                            # Get the models predicted values\n",
    "y_predictions = model.predict(x_test)    # scaled value\n",
    "\n",
    "y_predictions.shape"
   ]
  },
  {
   "cell_type": "code",
   "execution_count": 110,
   "id": "5e398cd8-235b-4055-90e0-e855868536bd",
   "metadata": {},
   "outputs": [],
   "source": [
    "# undo scaling\n",
    "                                                           # we want the predictions to be exact same as real lables \n",
    "y_predictions = scaler.inverse_transform(y_predictions)        # Undo the scaling of X according to feature_range(0-1)\n",
    "                                                           # gaining back the real value"
   ]
  },
  {
   "cell_type": "code",
   "execution_count": 111,
   "id": "cb87249b-2768-423a-a0aa-59983378af02",
   "metadata": {},
   "outputs": [
    {
     "data": {
      "text/plain": [
       "array([[ 332.5281 ],\n",
       "       [ 334.0462 ],\n",
       "       [ 335.52267],\n",
       "       ...,\n",
       "       [5587.894  ],\n",
       "       [3123.4062 ],\n",
       "       [4185.3003 ]], dtype=float32)"
      ]
     },
     "execution_count": 111,
     "metadata": {},
     "output_type": "execute_result"
    }
   ],
   "source": [
    "y_predictions"
   ]
  },
  {
   "cell_type": "code",
   "execution_count": 112,
   "id": "70974370-903f-4104-8731-a01b441fc69f",
   "metadata": {},
   "outputs": [
    {
     "data": {
      "text/plain": [
       "189.71760622304546"
      ]
     },
     "execution_count": 112,
     "metadata": {},
     "output_type": "execute_result"
    }
   ],
   "source": [
    "# EVALUATE THE MODEL root mean square error (RMSE)\n",
    "# its a measure of how good the model predicts the response \n",
    "# can be compared by std deviation less\n",
    "# lower value of rmse is better : try diff range of dataset \n",
    "\n",
    "rmse = np.sqrt(np.mean(y_predictions - y_test)**2)\n",
    "rmse\n"
   ]
  },
  {
   "cell_type": "code",
   "execution_count": 113,
   "id": "50168910-bef0-41a8-b93c-8c796d0e6465",
   "metadata": {},
   "outputs": [
    {
     "name": "stderr",
     "output_type": "stream",
     "text": [
      "C:\\Users\\Admin\\AppData\\Local\\Temp/ipykernel_720/1944950810.py:4: SettingWithCopyWarning: \n",
      "A value is trying to be set on a copy of a slice from a DataFrame.\n",
      "Try using .loc[row_indexer,col_indexer] = value instead\n",
      "\n",
      "See the caveats in the documentation: https://pandas.pydata.org/pandas-docs/stable/user_guide/indexing.html#returning-a-view-versus-a-copy\n",
      "  valid['predictions'] = y_predictions                       # valid(prediction) = y_prediction\n"
     ]
    },
    {
     "data": {
      "image/png": "[encoded data removed]",
      "text/plain": [
       "<Figure size 1440x864 with 1 Axes>"
      ]
     },
     "metadata": {},
     "output_type": "display_data"
    }
   ],
   "source": [
    "# plot the data\n",
    "train = data[ : training_data_len]                              # train = x_train\n",
    "valid = data[training_data_len : ]                              # valid = y_test                \n",
    "valid['predictions'] = y_predictions                       # valid(prediction) = y_prediction\n",
    "\n",
    "# visualise the model \n",
    "plt.figure(figsize=(20,12))\n",
    "plt.title('Model')\n",
    "plt.xlabel('Date' , fontsize = 18)\n",
    "plt.ylabel('closing price INR' , fontsize = 18)\n",
    "plt.plot(train['Close'])\n",
    "plt.plot(valid[['Close', 'predictions']])\n",
    "plt.legend(['TRAIN' , 'Original' , 'PREDICTION'] , loc= 'lower right')\n",
    "plt.show()\n"
   ]
  },
  {
   "cell_type": "code",
   "execution_count": 114,
   "id": "5382c8ef-f0da-4084-9d51-a854e9e51a89",
   "metadata": {},
   "outputs": [
    {
     "data": {
      "text/html": [
       "<div>\n",
       "<style scoped>\n",
       "    .dataframe tbody tr th:only-of-type {\n",
       "        vertical-align: middle;\n",
       "    }\n",
       "\n",
       "    .dataframe tbody tr th {\n",
       "        vertical-align: top;\n",
       "    }\n",
       "\n",
       "    .dataframe thead th {\n",
       "        text-align: right;\n",
       "    }\n",
       "</style>\n",
       "<table border=\"1\" class=\"dataframe\">\n",
       "  <thead>\n",
       "    <tr style=\"text-align: right;\">\n",
       "      <th></th>\n",
       "      <th>Close</th>\n",
       "      <th>predictions</th>\n",
       "    </tr>\n",
       "    <tr>\n",
       "      <th>Date</th>\n",
       "      <th></th>\n",
       "      <th></th>\n",
       "    </tr>\n",
       "  </thead>\n",
       "  <tbody>\n",
       "    <tr>\n",
       "      <th>2014-05-19</th>\n",
       "      <td>405.950012</td>\n",
       "      <td>332.528107</td>\n",
       "    </tr>\n",
       "    <tr>\n",
       "      <th>2014-05-20</th>\n",
       "      <td>408.024994</td>\n",
       "      <td>334.046204</td>\n",
       "    </tr>\n",
       "    <tr>\n",
       "      <th>2014-05-21</th>\n",
       "      <td>404.750000</td>\n",
       "      <td>335.522675</td>\n",
       "    </tr>\n",
       "    <tr>\n",
       "      <th>2014-05-22</th>\n",
       "      <td>401.299988</td>\n",
       "      <td>336.872650</td>\n",
       "    </tr>\n",
       "    <tr>\n",
       "      <th>2014-05-23</th>\n",
       "      <td>394.825012</td>\n",
       "      <td>338.007416</td>\n",
       "    </tr>\n",
       "    <tr>\n",
       "      <th>...</th>\n",
       "      <td>...</td>\n",
       "      <td>...</td>\n",
       "    </tr>\n",
       "    <tr>\n",
       "      <th>2022-04-06</th>\n",
       "      <td>1550.849976</td>\n",
       "      <td>8846.293945</td>\n",
       "    </tr>\n",
       "    <tr>\n",
       "      <th>2022-04-07</th>\n",
       "      <td>1516.750000</td>\n",
       "      <td>5711.945801</td>\n",
       "    </tr>\n",
       "    <tr>\n",
       "      <th>2022-04-08</th>\n",
       "      <td>1514.650024</td>\n",
       "      <td>5587.894043</td>\n",
       "    </tr>\n",
       "    <tr>\n",
       "      <th>2022-04-11</th>\n",
       "      <td>1496.150024</td>\n",
       "      <td>3123.406250</td>\n",
       "    </tr>\n",
       "    <tr>\n",
       "      <th>2022-04-12</th>\n",
       "      <td>1493.500000</td>\n",
       "      <td>4185.300293</td>\n",
       "    </tr>\n",
       "  </tbody>\n",
       "</table>\n",
       "<p>1949 rows × 2 columns</p>\n",
       "</div>"
      ],
      "text/plain": [
       "                  Close  predictions\n",
       "Date                                \n",
       "2014-05-19   405.950012   332.528107\n",
       "2014-05-20   408.024994   334.046204\n",
       "2014-05-21   404.750000   335.522675\n",
       "2014-05-22   401.299988   336.872650\n",
       "2014-05-23   394.825012   338.007416\n",
       "...                 ...          ...\n",
       "2022-04-06  1550.849976  8846.293945\n",
       "2022-04-07  1516.750000  5711.945801\n",
       "2022-04-08  1514.650024  5587.894043\n",
       "2022-04-11  1496.150024  3123.406250\n",
       "2022-04-12  1493.500000  4185.300293\n",
       "\n",
       "[1949 rows x 2 columns]"
      ]
     },
     "execution_count": 114,
     "metadata": {},
     "output_type": "execute_result"
    }
   ],
   "source": [
    "# show the valid and predicted price\n",
    "valid"
   ]
  },
  {
   "cell_type": "code",
   "execution_count": 115,
   "id": "1394bc99-d9f5-43e4-acb9-fab89a41fd3f",
   "metadata": {},
   "outputs": [
    {
     "data": {
      "text/html": [
       "<div>\n",
       "<style scoped>\n",
       "    .dataframe tbody tr th:only-of-type {\n",
       "        vertical-align: middle;\n",
       "    }\n",
       "\n",
       "    .dataframe tbody tr th {\n",
       "        vertical-align: top;\n",
       "    }\n",
       "\n",
       "    .dataframe thead th {\n",
       "        text-align: right;\n",
       "    }\n",
       "</style>\n",
       "<table border=\"1\" class=\"dataframe\">\n",
       "  <thead>\n",
       "    <tr style=\"text-align: right;\">\n",
       "      <th></th>\n",
       "      <th>Close</th>\n",
       "      <th>predictions</th>\n",
       "    </tr>\n",
       "    <tr>\n",
       "      <th>Date</th>\n",
       "      <th></th>\n",
       "      <th></th>\n",
       "    </tr>\n",
       "  </thead>\n",
       "  <tbody>\n",
       "    <tr>\n",
       "      <th>2022-02-28</th>\n",
       "      <td>1426.250000</td>\n",
       "      <td>6246.297363</td>\n",
       "    </tr>\n",
       "    <tr>\n",
       "      <th>2022-03-02</th>\n",
       "      <td>1374.250000</td>\n",
       "      <td>6982.979492</td>\n",
       "    </tr>\n",
       "    <tr>\n",
       "      <th>2022-03-03</th>\n",
       "      <td>1371.000000</td>\n",
       "      <td>6826.387207</td>\n",
       "    </tr>\n",
       "    <tr>\n",
       "      <th>2022-03-04</th>\n",
       "      <td>1366.500000</td>\n",
       "      <td>6081.191895</td>\n",
       "    </tr>\n",
       "    <tr>\n",
       "      <th>2022-03-07</th>\n",
       "      <td>1324.800049</td>\n",
       "      <td>6448.166016</td>\n",
       "    </tr>\n",
       "    <tr>\n",
       "      <th>2022-03-08</th>\n",
       "      <td>1327.800049</td>\n",
       "      <td>7745.979492</td>\n",
       "    </tr>\n",
       "    <tr>\n",
       "      <th>2022-03-09</th>\n",
       "      <td>1371.150024</td>\n",
       "      <td>5807.709473</td>\n",
       "    </tr>\n",
       "    <tr>\n",
       "      <th>2022-03-10</th>\n",
       "      <td>1392.699951</td>\n",
       "      <td>6072.029785</td>\n",
       "    </tr>\n",
       "    <tr>\n",
       "      <th>2022-03-11</th>\n",
       "      <td>1396.800049</td>\n",
       "      <td>6063.596191</td>\n",
       "    </tr>\n",
       "    <tr>\n",
       "      <th>2022-03-14</th>\n",
       "      <td>1442.550049</td>\n",
       "      <td>5584.591309</td>\n",
       "    </tr>\n",
       "    <tr>\n",
       "      <th>2022-03-15</th>\n",
       "      <td>1424.000000</td>\n",
       "      <td>6436.541992</td>\n",
       "    </tr>\n",
       "    <tr>\n",
       "      <th>2022-03-16</th>\n",
       "      <td>1448.150024</td>\n",
       "      <td>6310.949707</td>\n",
       "    </tr>\n",
       "    <tr>\n",
       "      <th>2022-03-17</th>\n",
       "      <td>1480.050049</td>\n",
       "      <td>4915.399414</td>\n",
       "    </tr>\n",
       "    <tr>\n",
       "      <th>2022-03-21</th>\n",
       "      <td>1486.500000</td>\n",
       "      <td>4122.403320</td>\n",
       "    </tr>\n",
       "    <tr>\n",
       "      <th>2022-03-22</th>\n",
       "      <td>1494.150024</td>\n",
       "      <td>5615.286621</td>\n",
       "    </tr>\n",
       "    <tr>\n",
       "      <th>2022-03-23</th>\n",
       "      <td>1479.250000</td>\n",
       "      <td>1639.317871</td>\n",
       "    </tr>\n",
       "    <tr>\n",
       "      <th>2022-03-24</th>\n",
       "      <td>1442.650024</td>\n",
       "      <td>1231.446777</td>\n",
       "    </tr>\n",
       "    <tr>\n",
       "      <th>2022-03-25</th>\n",
       "      <td>1430.900024</td>\n",
       "      <td>6852.761719</td>\n",
       "    </tr>\n",
       "    <tr>\n",
       "      <th>2022-03-28</th>\n",
       "      <td>1432.800049</td>\n",
       "      <td>5954.310059</td>\n",
       "    </tr>\n",
       "    <tr>\n",
       "      <th>2022-03-29</th>\n",
       "      <td>1451.800049</td>\n",
       "      <td>4777.792480</td>\n",
       "    </tr>\n",
       "    <tr>\n",
       "      <th>2022-03-30</th>\n",
       "      <td>1476.949951</td>\n",
       "      <td>1624.351929</td>\n",
       "    </tr>\n",
       "    <tr>\n",
       "      <th>2022-03-31</th>\n",
       "      <td>1470.349976</td>\n",
       "      <td>1285.964355</td>\n",
       "    </tr>\n",
       "    <tr>\n",
       "      <th>2022-04-01</th>\n",
       "      <td>1506.000000</td>\n",
       "      <td>5083.256348</td>\n",
       "    </tr>\n",
       "    <tr>\n",
       "      <th>2022-04-04</th>\n",
       "      <td>1656.800049</td>\n",
       "      <td>4079.369873</td>\n",
       "    </tr>\n",
       "    <tr>\n",
       "      <th>2022-04-05</th>\n",
       "      <td>1608.250000</td>\n",
       "      <td>4814.346191</td>\n",
       "    </tr>\n",
       "    <tr>\n",
       "      <th>2022-04-06</th>\n",
       "      <td>1550.849976</td>\n",
       "      <td>8846.293945</td>\n",
       "    </tr>\n",
       "    <tr>\n",
       "      <th>2022-04-07</th>\n",
       "      <td>1516.750000</td>\n",
       "      <td>5711.945801</td>\n",
       "    </tr>\n",
       "    <tr>\n",
       "      <th>2022-04-08</th>\n",
       "      <td>1514.650024</td>\n",
       "      <td>5587.894043</td>\n",
       "    </tr>\n",
       "    <tr>\n",
       "      <th>2022-04-11</th>\n",
       "      <td>1496.150024</td>\n",
       "      <td>3123.406250</td>\n",
       "    </tr>\n",
       "    <tr>\n",
       "      <th>2022-04-12</th>\n",
       "      <td>1493.500000</td>\n",
       "      <td>4185.300293</td>\n",
       "    </tr>\n",
       "  </tbody>\n",
       "</table>\n",
       "</div>"
      ],
      "text/plain": [
       "                  Close  predictions\n",
       "Date                                \n",
       "2022-02-28  1426.250000  6246.297363\n",
       "2022-03-02  1374.250000  6982.979492\n",
       "2022-03-03  1371.000000  6826.387207\n",
       "2022-03-04  1366.500000  6081.191895\n",
       "2022-03-07  1324.800049  6448.166016\n",
       "2022-03-08  1327.800049  7745.979492\n",
       "2022-03-09  1371.150024  5807.709473\n",
       "2022-03-10  1392.699951  6072.029785\n",
       "2022-03-11  1396.800049  6063.596191\n",
       "2022-03-14  1442.550049  5584.591309\n",
       "2022-03-15  1424.000000  6436.541992\n",
       "2022-03-16  1448.150024  6310.949707\n",
       "2022-03-17  1480.050049  4915.399414\n",
       "2022-03-21  1486.500000  4122.403320\n",
       "2022-03-22  1494.150024  5615.286621\n",
       "2022-03-23  1479.250000  1639.317871\n",
       "2022-03-24  1442.650024  1231.446777\n",
       "2022-03-25  1430.900024  6852.761719\n",
       "2022-03-28  1432.800049  5954.310059\n",
       "2022-03-29  1451.800049  4777.792480\n",
       "2022-03-30  1476.949951  1624.351929\n",
       "2022-03-31  1470.349976  1285.964355\n",
       "2022-04-01  1506.000000  5083.256348\n",
       "2022-04-04  1656.800049  4079.369873\n",
       "2022-04-05  1608.250000  4814.346191\n",
       "2022-04-06  1550.849976  8846.293945\n",
       "2022-04-07  1516.750000  5711.945801\n",
       "2022-04-08  1514.650024  5587.894043\n",
       "2022-04-11  1496.150024  3123.406250\n",
       "2022-04-12  1493.500000  4185.300293"
      ]
     },
     "execution_count": 115,
     "metadata": {},
     "output_type": "execute_result"
    }
   ],
   "source": [
    "valid.tail(30)"
   ]
  },
  {
   "cell_type": "markdown",
   "id": "9cc3d776-4e7d-455f-9842-8425885e3194",
   "metadata": {},
   "source": [
    "# future prediction"
   ]
  },
  {
   "cell_type": "code",
   "execution_count": 2,
   "id": "4cb0287f-ed55-41ad-8ed7-f00496aa7bd3",
   "metadata": {},
   "outputs": [
    {
     "ename": "NameError",
     "evalue": "name 'web' is not defined",
     "output_type": "error",
     "traceback": [
      "\u001b[1;31m---------------------------------------------------------------------------\u001b[0m",
      "\u001b[1;31mNameError\u001b[0m                                 Traceback (most recent call last)",
      "\u001b[1;32m~\\AppData\\Local\\Temp/ipykernel_13980/4049799205.py\u001b[0m in \u001b[0;36m<module>\u001b[1;34m\u001b[0m\n\u001b[0;32m      1\u001b[0m \u001b[1;31m# Get the quotes\u001b[0m\u001b[1;33m\u001b[0m\u001b[1;33m\u001b[0m\u001b[0m\n\u001b[1;32m----> 2\u001b[1;33m \u001b[0mhdfcbank_quote\u001b[0m \u001b[1;33m=\u001b[0m \u001b[0mweb\u001b[0m\u001b[1;33m.\u001b[0m\u001b[0mDataReader\u001b[0m\u001b[1;33m(\u001b[0m\u001b[1;34m'HDFCBANK.NS'\u001b[0m\u001b[1;33m,\u001b[0m\u001b[0mdata_source\u001b[0m\u001b[1;33m=\u001b[0m\u001b[1;34m'yahoo'\u001b[0m\u001b[1;33m,\u001b[0m\u001b[0mstart\u001b[0m\u001b[1;33m=\u001b[0m\u001b[1;34m'2000-01-01'\u001b[0m\u001b[1;33m,\u001b[0m\u001b[0mend\u001b[0m\u001b[1;33m=\u001b[0m\u001b[1;33m(\u001b[0m\u001b[0mdatetime\u001b[0m\u001b[1;33m.\u001b[0m\u001b[0mdatetime\u001b[0m\u001b[1;33m.\u001b[0m\u001b[0mnow\u001b[0m\u001b[1;33m(\u001b[0m\u001b[1;33m)\u001b[0m \u001b[1;33m+\u001b[0m \u001b[0mtimedelta\u001b[0m\u001b[1;33m(\u001b[0m\u001b[0mdays\u001b[0m\u001b[1;33m=\u001b[0m\u001b[1;36m1\u001b[0m\u001b[1;33m)\u001b[0m\u001b[1;33m)\u001b[0m\u001b[1;33m)\u001b[0m\u001b[1;33m\u001b[0m\u001b[1;33m\u001b[0m\u001b[0m\n\u001b[0m\u001b[0;32m      3\u001b[0m \u001b[1;31m# create a new dataframe\u001b[0m\u001b[1;33m\u001b[0m\u001b[1;33m\u001b[0m\u001b[0m\n\u001b[0;32m      4\u001b[0m \u001b[0mnew_df\u001b[0m \u001b[1;33m=\u001b[0m \u001b[0mhdfcbank_quote\u001b[0m\u001b[1;33m.\u001b[0m\u001b[0mfilter\u001b[0m\u001b[1;33m(\u001b[0m\u001b[1;33m[\u001b[0m\u001b[1;34m'Close'\u001b[0m\u001b[1;33m]\u001b[0m\u001b[1;33m)\u001b[0m\u001b[1;33m\u001b[0m\u001b[1;33m\u001b[0m\u001b[0m\n\u001b[0;32m      5\u001b[0m \u001b[1;31m# Get the last 60days closing price value and convert the data form tp numpy array\u001b[0m\u001b[1;33m\u001b[0m\u001b[1;33m\u001b[0m\u001b[0m\n",
      "\u001b[1;31mNameError\u001b[0m: name 'web' is not defined"
     ]
    }
   ],
   "source": [
    "# Get the quotes\n",
    "hdfcbank_quote = web.DataReader('HDFCBANK.NS',data_source='yahoo',start='2000-01-01',end=(datetime.datetime.now() + timedelta(days=1)))\n",
    "# create a new dataframe \n",
    "new_df = hdfcbank_quote.filter(['Close'])\n",
    "# Get the last 60days closing price value and convert the data form tp numpy array\n",
    "last_90days = new_df[-90 :].values\n",
    "# Scale the data as per previous tramsformation made\n",
    "last_90days_scaled = scaler.transform(last_90days)     # here not using fit.transform because we want to transform by using same last value ranges thus not creating new one\n",
    "# create an empty list \n",
    "X_TEST = []\n",
    "# Append last 90 days \n",
    "X_TEST.append(last_90days_scaled)\n",
    "# convert the X_TEST  to a numpy array\n",
    "X_TEST = np.array(X_TEST)\n",
    "# Reshape the data for LSTM model \n",
    "X_TEST = np.reshape(X_TEST , newshape= (X_TEST.shape[0] ,X_TEST.shape[1] , 1 ))   # last is 1 because 1 feature of close price is required\n",
    "# Get the predicted scaled price \n",
    "pred_price = model.predict(X_TEST)\n",
    "# Undo the scaling \n",
    "pred_price = scaler.inverse_transform(pred_price)\n",
    "pred_price\n"
   ]
  },
  {
   "cell_type": "code",
   "execution_count": null,
   "id": "a0f26254-abe1-4de2-aca0-87d7cd6d5178",
   "metadata": {},
   "outputs": [],
   "source": [
    "# actual price\n",
    "start_date = (datetime.datetime.now())\n",
    "end_date = (datetime.datetime.now())\n",
    "hdfcbank_actual = web.DataReader('HDFCBANK.NS',data_source='yahoo',start= start_date,end=end_date)\n",
    "hdfcbank_actual['Close']"
   ]
  },
  {
   "cell_type": "code",
   "execution_count": null,
   "id": "3996991f-67da-46ca-91e6-c5f4ef5cfc1e",
   "metadata": {},
   "outputs": [],
   "source": []
  },
  {
   "cell_type": "code",
   "execution_count": null,
   "id": "c54a3d1c-f201-4d3b-a403-ed97b4923016",
   "metadata": {},
   "outputs": [],
   "source": []
  },
  {
   "cell_type": "code",
   "execution_count": null,
   "id": "819a9936-a0db-4e6e-a435-bf0c272a82ba",
   "metadata": {},
   "outputs": [],
   "source": []
  },
  {
   "cell_type": "code",
   "execution_count": null,
   "id": "ed4d7775-b9eb-4544-867e-06bfd66dcb7f",
   "metadata": {},
   "outputs": [],
   "source": []
  }
 ],
 "metadata": {
  "kernelspec": {
   "display_name": "Python 3 (ipykernel)",
   "language": "python",
   "name": "python3"
  },
  "language_info": {
   "codemirror_mode": {
    "name": "ipython",
    "version": 3
   },
   "file_extension": ".py",
   "mimetype": "text/x-python",
   "name": "python",
   "nbconvert_exporter": "python",
   "pygments_lexer": "ipython3",
   "version": "3.9.7"
  }
 },
 "nbformat": 4,
 "nbformat_minor": 5
}
