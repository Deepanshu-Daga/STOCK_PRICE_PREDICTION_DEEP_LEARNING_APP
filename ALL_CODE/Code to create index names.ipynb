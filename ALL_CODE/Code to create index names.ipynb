{
 "cells": [
  {
   "cell_type": "code",
   "execution_count": 26,
   "id": "46c3c179-7a0a-45e6-8e16-5757a71ec083",
   "metadata": {},
   "outputs": [
    {
     "name": "stdout",
     "output_type": "stream",
     "text": [
      "'HEROMOTOCO.NS_15_keras_model.h5','TECHM.NS_15_keras_model.h5','COALINDIA.NS_15_keras_model.h5','ITC.NS_15_keras_model.h5','LTI.NS_15_keras_model.h5','INDUSINDBK.NS_15_keras_model.h5','AMARAJABAT.NS_15_keras_model.h5','BERGEPAINT.NS_15_keras_model.h5','GUJGASLTD.NS_15_keras_model.h5','HDFC.NS_15_keras_model.h5','HDFCAMC.NS_15_keras_model.h5','HDFCBANK.NS_15_keras_model.h5','DABUR.NS_15_keras_model.h5','DEEPAKNTR.NS_15_keras_model.h5','INFY.NS_15_keras_model.h5','MIDHANI.NS_15_keras_model.h5','BRITANNIA.NS_15_keras_model.h5','LTTS.NS_15_keras_model.h5','WIPRO.NS_15_keras_model.h5','TCS.NS_15_keras_model.h5','AARTIIND.NS_15_keras_model.h5','COLPAL.NS_15_keras_model.h5','BHARTIARTL.NS_15_keras_model.h5','ASHOKLEY.NS_15_keras_model.h5','MARICO.NS_15_keras_model.h5','KOTAKBANK.NS_15_keras_model.h5','ICICIBANK.NS_15_keras_model.h5','IRCON.NS_15_keras_model.h5','TATAELXSI.NS_15_keras_model.h5','RVNL.NS_15_keras_model.h5','MGL.NS_15_keras_model.h5','HINDUNILVR.NS_15_keras_model.h5','IGL.NS_15_keras_model.h5','IRFC.NS_15_keras_model.h5','PETRONET.NS_15_keras_model.h5','NTPC.NS_15_keras_model.h5','HEROMOTOCO.NS_15_keras_model.h5','TECHM.NS_15_keras_model.h5','COALINDIA.NS_15_keras_model.h5','HINDALCO.NS_15_keras_model.h5','HEROMOTOCO.NS_30_keras_model.h5','TECHM.NS_30_keras_model.h5','COALINDIA.NS_30_keras_model.h5','ITC.NS_30_keras_model.h5','LTI.NS_30_keras_model.h5','INDUSINDBK.NS_30_keras_model.h5','AMARAJABAT.NS_30_keras_model.h5','BERGEPAINT.NS_30_keras_model.h5','GUJGASLTD.NS_30_keras_model.h5','HDFC.NS_30_keras_model.h5','HDFCAMC.NS_30_keras_model.h5','HDFCBANK.NS_30_keras_model.h5','DABUR.NS_30_keras_model.h5','DEEPAKNTR.NS_30_keras_model.h5','INFY.NS_30_keras_model.h5','MIDHANI.NS_30_keras_model.h5','BRITANNIA.NS_30_keras_model.h5','LTTS.NS_30_keras_model.h5','WIPRO.NS_30_keras_model.h5','TCS.NS_30_keras_model.h5','AARTIIND.NS_30_keras_model.h5','COLPAL.NS_30_keras_model.h5','BHARTIARTL.NS_30_keras_model.h5','ASHOKLEY.NS_30_keras_model.h5','MARICO.NS_30_keras_model.h5','KOTAKBANK.NS_30_keras_model.h5','ICICIBANK.NS_30_keras_model.h5','IRCON.NS_30_keras_model.h5','TATAELXSI.NS_30_keras_model.h5','RVNL.NS_30_keras_model.h5','MGL.NS_30_keras_model.h5','HINDUNILVR.NS_30_keras_model.h5','IGL.NS_30_keras_model.h5','IRFC.NS_30_keras_model.h5','PETRONET.NS_30_keras_model.h5','NTPC.NS_30_keras_model.h5','HEROMOTOCO.NS_30_keras_model.h5','TECHM.NS_30_keras_model.h5','COALINDIA.NS_30_keras_model.h5','HINDALCO.NS_30_keras_model.h5','HEROMOTOCO.NS_45_keras_model.h5','TECHM.NS_45_keras_model.h5','COALINDIA.NS_45_keras_model.h5','ITC.NS_45_keras_model.h5','LTI.NS_45_keras_model.h5','INDUSINDBK.NS_45_keras_model.h5','AMARAJABAT.NS_45_keras_model.h5','BERGEPAINT.NS_45_keras_model.h5','GUJGASLTD.NS_45_keras_model.h5','HDFC.NS_45_keras_model.h5','HDFCAMC.NS_45_keras_model.h5','HDFCBANK.NS_45_keras_model.h5','DABUR.NS_45_keras_model.h5','DEEPAKNTR.NS_45_keras_model.h5','INFY.NS_45_keras_model.h5','MIDHANI.NS_45_keras_model.h5','BRITANNIA.NS_45_keras_model.h5','LTTS.NS_45_keras_model.h5','WIPRO.NS_45_keras_model.h5','TCS.NS_45_keras_model.h5','AARTIIND.NS_45_keras_model.h5','COLPAL.NS_45_keras_model.h5','BHARTIARTL.NS_45_keras_model.h5','ASHOKLEY.NS_45_keras_model.h5','MARICO.NS_45_keras_model.h5','KOTAKBANK.NS_45_keras_model.h5','ICICIBANK.NS_45_keras_model.h5','IRCON.NS_45_keras_model.h5','TATAELXSI.NS_45_keras_model.h5','RVNL.NS_45_keras_model.h5','MGL.NS_45_keras_model.h5','HINDUNILVR.NS_45_keras_model.h5','IGL.NS_45_keras_model.h5','IRFC.NS_45_keras_model.h5','PETRONET.NS_45_keras_model.h5','NTPC.NS_45_keras_model.h5','HEROMOTOCO.NS_45_keras_model.h5','TECHM.NS_45_keras_model.h5','COALINDIA.NS_45_keras_model.h5','HINDALCO.NS_45_keras_model.h5','HEROMOTOCO.NS_60_keras_model.h5','TECHM.NS_60_keras_model.h5','COALINDIA.NS_60_keras_model.h5','ITC.NS_60_keras_model.h5','LTI.NS_60_keras_model.h5','INDUSINDBK.NS_60_keras_model.h5','AMARAJABAT.NS_60_keras_model.h5','BERGEPAINT.NS_60_keras_model.h5','GUJGASLTD.NS_60_keras_model.h5','HDFC.NS_60_keras_model.h5','HDFCAMC.NS_60_keras_model.h5','HDFCBANK.NS_60_keras_model.h5','DABUR.NS_60_keras_model.h5','DEEPAKNTR.NS_60_keras_model.h5','INFY.NS_60_keras_model.h5','MIDHANI.NS_60_keras_model.h5','BRITANNIA.NS_60_keras_model.h5','LTTS.NS_60_keras_model.h5','WIPRO.NS_60_keras_model.h5','TCS.NS_60_keras_model.h5','AARTIIND.NS_60_keras_model.h5','COLPAL.NS_60_keras_model.h5','BHARTIARTL.NS_60_keras_model.h5','ASHOKLEY.NS_60_keras_model.h5','MARICO.NS_60_keras_model.h5','KOTAKBANK.NS_60_keras_model.h5','ICICIBANK.NS_60_keras_model.h5','IRCON.NS_60_keras_model.h5','TATAELXSI.NS_60_keras_model.h5','RVNL.NS_60_keras_model.h5','MGL.NS_60_keras_model.h5','HINDUNILVR.NS_60_keras_model.h5','IGL.NS_60_keras_model.h5','IRFC.NS_60_keras_model.h5','PETRONET.NS_60_keras_model.h5','NTPC.NS_60_keras_model.h5','HEROMOTOCO.NS_60_keras_model.h5','TECHM.NS_60_keras_model.h5','COALINDIA.NS_60_keras_model.h5','HINDALCO.NS_60_keras_model.h5',\n",
      " Total models count  160\n"
     ]
    }
   ],
   "source": [
    "\n",
    "\n",
    "count = 0\n",
    "stock_name = [ 'HEROMOTOCO.NS','TECHM.NS','COALINDIA.NS','ITC.NS','LTI.NS','INDUSINDBK.NS','AMARAJABAT.NS','BERGEPAINT.NS','GUJGASLTD.NS','HDFC.NS','HDFCAMC.NS','HDFCBANK.NS', 'DABUR.NS','DEEPAKNTR.NS','INFY.NS','MIDHANI.NS','BRITANNIA.NS','LTTS.NS','WIPRO.NS','TCS.NS','AARTIIND.NS','COLPAL.NS','BHARTIARTL.NS','ASHOKLEY.NS','MARICO.NS','KOTAKBANK.NS','ICICIBANK.NS','IRCON.NS','TATAELXSI.NS','RVNL.NS','MGL.NS','HINDUNILVR.NS','IGL.NS','IRFC.NS','PETRONET.NS','NTPC.NS','HEROMOTOCO.NS','TECHM.NS','COALINDIA.NS','HINDALCO.NS']\n",
    "\n",
    "\n",
    "steps_size = ['15','30','45','60']\n",
    "for i in steps_size :\n",
    "  \n",
    "    \n",
    "    stock_name = [ 'HEROMOTOCO.NS','TECHM.NS','COALINDIA.NS','ITC.NS','LTI.NS','INDUSINDBK.NS','AMARAJABAT.NS','BERGEPAINT.NS','GUJGASLTD.NS','HDFC.NS','HDFCAMC.NS','HDFCBANK.NS', 'DABUR.NS','DEEPAKNTR.NS','INFY.NS','MIDHANI.NS','BRITANNIA.NS','LTTS.NS','WIPRO.NS','TCS.NS','AARTIIND.NS','COLPAL.NS','BHARTIARTL.NS','ASHOKLEY.NS','MARICO.NS','KOTAKBANK.NS','ICICIBANK.NS','IRCON.NS','TATAELXSI.NS','RVNL.NS','MGL.NS','HINDUNILVR.NS','IGL.NS','IRFC.NS','PETRONET.NS','NTPC.NS','HEROMOTOCO.NS','TECHM.NS','COALINDIA.NS','HINDALCO.NS']\n",
    "    for j in stock_name:\n",
    "    \n",
    "        count =count+ 1\n",
    "        print(\"'\" + '{}_{}_keras_model.h5'.format(j , i) + \"'\" , end=\",\")\n",
    "print('\\n Total models count ' , count)    "
   ]
  },
  {
   "cell_type": "code",
   "execution_count": null,
   "id": "95004d29-2764-47f7-bd5b-073b034e9cc1",
   "metadata": {},
   "outputs": [],
   "source": []
  }
 ],
 "metadata": {
  "kernelspec": {
   "display_name": "Python 3 (ipykernel)",
   "language": "python",
   "name": "python3"
  },
  "language_info": {
   "codemirror_mode": {
    "name": "ipython",
    "version": 3
   },
   "file_extension": ".py",
   "mimetype": "text/x-python",
   "name": "python",
   "nbconvert_exporter": "python",
   "pygments_lexer": "ipython3",
   "version": "3.9.7"
  }
 },
 "nbformat": 4,
 "nbformat_minor": 5
}
